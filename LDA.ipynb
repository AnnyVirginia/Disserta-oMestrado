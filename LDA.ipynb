{
 "cells": [
  {
   "cell_type": "code",
   "execution_count": 1,
   "id": "3bc2419e",
   "metadata": {},
   "outputs": [],
   "source": [
    "import pandas as pd\n",
    "import io\n",
    "import requests\n",
    "import numpy as np\n",
    "from sklearn import metrics\n",
    "from sklearn import preprocessing\n",
    "from sklearn.model_selection import train_test_split\n",
    "\n",
    "# Importando os dados para um dataframe\n",
    "df = pd.read_csv(\n",
    "    \"DadosFalha.csv\", \n",
    "    na_values=['NA', '?']).drop([\"Unnamed: 0\",\"F\"], axis=1)\n",
    "    \n",
    "lb = preprocessing.LabelBinarizer()\n",
    "df[\"Reativa_binarized\"] = lb.fit_transform(df['Reativa'])\n",
    "\n",
    "# Convert to numpy - Classification\n",
    "features_cols_names = ['Poropressão', 'CoefEmp', 'AlfaBiot', 'AngAtrito','Coesao','Tensao']\n",
    "x = df[features_cols_names].values\n",
    "y = df[\"Reativa_binarized\"]"
   ]
  },
  {
   "cell_type": "code",
   "execution_count": 2,
   "id": "11074759",
   "metadata": {},
   "outputs": [
    {
     "name": "stdout",
     "output_type": "stream",
     "text": [
      "Amount of data:  1000000\n"
     ]
    }
   ],
   "source": [
    "print(\"Amount of data: \", df.shape[0])"
   ]
  },
  {
   "cell_type": "code",
   "execution_count": 3,
   "id": "f377873b",
   "metadata": {},
   "outputs": [],
   "source": [
    "## Analysing label distribution"
   ]
  },
  {
   "cell_type": "code",
   "execution_count": 4,
   "id": "9b854a92",
   "metadata": {},
   "outputs": [
    {
     "data": {
      "text/html": [
       "<div>\n",
       "<style scoped>\n",
       "    .dataframe tbody tr th:only-of-type {\n",
       "        vertical-align: middle;\n",
       "    }\n",
       "\n",
       "    .dataframe tbody tr th {\n",
       "        vertical-align: top;\n",
       "    }\n",
       "\n",
       "    .dataframe thead th {\n",
       "        text-align: right;\n",
       "    }\n",
       "</style>\n",
       "<table border=\"1\" class=\"dataframe\">\n",
       "  <thead>\n",
       "    <tr style=\"text-align: right;\">\n",
       "      <th></th>\n",
       "      <th>Reativa</th>\n",
       "      <th>Reativa_binarized</th>\n",
       "      <th>count</th>\n",
       "      <th>Percentage</th>\n",
       "    </tr>\n",
       "  </thead>\n",
       "  <tbody>\n",
       "    <tr>\n",
       "      <th>0</th>\n",
       "      <td>Não Reativa</td>\n",
       "      <td>0</td>\n",
       "      <td>749768</td>\n",
       "      <td>74.98</td>\n",
       "    </tr>\n",
       "    <tr>\n",
       "      <th>1</th>\n",
       "      <td>Reativa</td>\n",
       "      <td>1</td>\n",
       "      <td>250232</td>\n",
       "      <td>25.02</td>\n",
       "    </tr>\n",
       "  </tbody>\n",
       "</table>\n",
       "</div>"
      ],
      "text/plain": [
       "       Reativa  Reativa_binarized   count  Percentage\n",
       "0  Não Reativa                  0  749768       74.98\n",
       "1      Reativa                  1  250232       25.02"
      ]
     },
     "execution_count": 4,
     "metadata": {},
     "output_type": "execute_result"
    }
   ],
   "source": [
    "temp_df = df.groupby([\"Reativa\", \"Reativa_binarized\"]).size().reset_index(name=\"count\")\n",
    "temp_df[\"Percentage\"] = round((temp_df[\"count\"]/temp_df[\"count\"].sum())*100, 2)\n",
    "temp_df"
   ]
  },
  {
   "cell_type": "code",
   "execution_count": 5,
   "id": "5f1c215d",
   "metadata": {},
   "outputs": [],
   "source": [
    "## Analyzing features distributions"
   ]
  },
  {
   "cell_type": "code",
   "execution_count": 6,
   "id": "e57f7df4",
   "metadata": {},
   "outputs": [
    {
     "data": {
      "text/plain": [
       "([<matplotlib.axis.YTick at 0x27f3ee81d30>,\n",
       "  <matplotlib.axis.YTick at 0x27f3ee81910>,\n",
       "  <matplotlib.axis.YTick at 0x27f3eeacfd0>,\n",
       "  <matplotlib.axis.YTick at 0x27f40cbacd0>,\n",
       "  <matplotlib.axis.YTick at 0x27f40cc7220>,\n",
       "  <matplotlib.axis.YTick at 0x27f40cc7730>],\n",
       " [Text(0, 0, 'P'),\n",
       "  Text(0, 1, 'k0'),\n",
       "  Text(0, 2, 'α'),\n",
       "  Text(0, 3, 'ϕ'),\n",
       "  Text(0, 4, 'c'),\n",
       "  Text(0, 5, 'σ')])"
      ]
     },
     "execution_count": 6,
     "metadata": {},
     "output_type": "execute_result"
    },
    {
     "data": {
      "image/png": "[encoded data removed]",
      "text/plain": [
       "<Figure size 432x288 with 1 Axes>"
      ]
     },
     "metadata": {
      "needs_background": "light"
     },
     "output_type": "display_data"
    }
   ],
   "source": [
    "import matplotlib.pyplot as plt\n",
    "import seaborn as sns\n",
    "plt.xlabel( \"Distribuição dos Valores\" , size = 11 ) \n",
    "plt.ylabel( \"Features\" , size = 11 ) \n",
    "ax = sns.boxplot(data=df[features_cols_names], orient=\"h\",palette=\"Set2\")\n",
    "ticks, labels = plt.yticks()\n",
    "plt.yticks(ticks, labels=['P', 'k0','α','ϕ','c','σ'], size=11)\n"
   ]
  },
  {
   "cell_type": "markdown",
   "id": "7714b4ba",
   "metadata": {},
   "source": [
    "## Some conclusions\n",
    "- Looking at the boxplot above, we can see that each feature has its own kind of distribution which seems to be not Normal. Furthermore, the range of values varies over the features.\n",
    "- Given that, we should normalize the features before building a linear discriminant analysis"
   ]
  },
  {
   "cell_type": "code",
   "execution_count": 7,
   "id": "f2f89375",
   "metadata": {},
   "outputs": [],
   "source": [
    "from sklearn.preprocessing import StandardScaler\n",
    "\n",
    "# Split into validation and training sets\n",
    "x_train, x_test, y_train, y_test = train_test_split(    \n",
    "    x, y, test_size=0.25, random_state=42)\n",
    "\n",
    "scaler = StandardScaler()\n",
    "scaler.fit(x_train)\n",
    "\n",
    "x_train_normalized = scaler.transform(x_train)\n",
    "x_test_normalized = scaler.transform(x_test)"
   ]
  },
  {
   "cell_type": "code",
   "execution_count": 8,
   "id": "65d34987",
   "metadata": {},
   "outputs": [
    {
     "data": {
      "text/html": [
       "<div>\n",
       "<style scoped>\n",
       "    .dataframe tbody tr th:only-of-type {\n",
       "        vertical-align: middle;\n",
       "    }\n",
       "\n",
       "    .dataframe tbody tr th {\n",
       "        vertical-align: top;\n",
       "    }\n",
       "\n",
       "    .dataframe thead th {\n",
       "        text-align: right;\n",
       "    }\n",
       "</style>\n",
       "<table border=\"1\" class=\"dataframe\">\n",
       "  <thead>\n",
       "    <tr style=\"text-align: right;\">\n",
       "      <th></th>\n",
       "      <th>Poropressão</th>\n",
       "      <th>CoefEmp</th>\n",
       "      <th>AlfaBiot</th>\n",
       "      <th>AngAtrito</th>\n",
       "      <th>Coesao</th>\n",
       "      <th>Tensao</th>\n",
       "    </tr>\n",
       "  </thead>\n",
       "  <tbody>\n",
       "    <tr>\n",
       "      <th>count</th>\n",
       "      <td>7.500000e+05</td>\n",
       "      <td>7.500000e+05</td>\n",
       "      <td>7.500000e+05</td>\n",
       "      <td>7.500000e+05</td>\n",
       "      <td>7.500000e+05</td>\n",
       "      <td>7.500000e+05</td>\n",
       "    </tr>\n",
       "    <tr>\n",
       "      <th>mean</th>\n",
       "      <td>3.706718e-16</td>\n",
       "      <td>4.044494e-14</td>\n",
       "      <td>1.907571e-14</td>\n",
       "      <td>-7.099160e-16</td>\n",
       "      <td>4.246801e-16</td>\n",
       "      <td>1.000500e-16</td>\n",
       "    </tr>\n",
       "    <tr>\n",
       "      <th>std</th>\n",
       "      <td>1.000001e+00</td>\n",
       "      <td>1.000001e+00</td>\n",
       "      <td>1.000001e+00</td>\n",
       "      <td>1.000001e+00</td>\n",
       "      <td>1.000001e+00</td>\n",
       "      <td>1.000001e+00</td>\n",
       "    </tr>\n",
       "    <tr>\n",
       "      <th>min</th>\n",
       "      <td>-1.709988e+00</td>\n",
       "      <td>-1.732320e+00</td>\n",
       "      <td>-1.731005e+00</td>\n",
       "      <td>-1.664673e+00</td>\n",
       "      <td>-1.655099e+00</td>\n",
       "      <td>-1.725989e+00</td>\n",
       "    </tr>\n",
       "    <tr>\n",
       "      <th>25%</th>\n",
       "      <td>-8.684086e-01</td>\n",
       "      <td>-8.669253e-01</td>\n",
       "      <td>-8.669712e-01</td>\n",
       "      <td>-8.325738e-01</td>\n",
       "      <td>-8.671681e-01</td>\n",
       "      <td>-8.594338e-01</td>\n",
       "    </tr>\n",
       "    <tr>\n",
       "      <th>50%</th>\n",
       "      <td>2.267511e-02</td>\n",
       "      <td>2.112568e-03</td>\n",
       "      <td>-2.494574e-04</td>\n",
       "      <td>-4.741119e-04</td>\n",
       "      <td>7.834936e-02</td>\n",
       "      <td>7.121118e-03</td>\n",
       "    </tr>\n",
       "    <tr>\n",
       "      <th>75%</th>\n",
       "      <td>8.642541e-01</td>\n",
       "      <td>8.648483e-01</td>\n",
       "      <td>8.662661e-01</td>\n",
       "      <td>8.316256e-01</td>\n",
       "      <td>8.662806e-01</td>\n",
       "      <td>8.563450e-01</td>\n",
       "    </tr>\n",
       "    <tr>\n",
       "      <th>max</th>\n",
       "      <td>1.705833e+00</td>\n",
       "      <td>1.732651e+00</td>\n",
       "      <td>1.733299e+00</td>\n",
       "      <td>1.663725e+00</td>\n",
       "      <td>1.654212e+00</td>\n",
       "      <td>1.722900e+00</td>\n",
       "    </tr>\n",
       "  </tbody>\n",
       "</table>\n",
       "</div>"
      ],
      "text/plain": [
       "        Poropressão       CoefEmp      AlfaBiot     AngAtrito        Coesao  \\\n",
       "count  7.500000e+05  7.500000e+05  7.500000e+05  7.500000e+05  7.500000e+05   \n",
       "mean   3.706718e-16  4.044494e-14  1.907571e-14 -7.099160e-16  4.246801e-16   \n",
       "std    1.000001e+00  1.000001e+00  1.000001e+00  1.000001e+00  1.000001e+00   \n",
       "min   -1.709988e+00 -1.732320e+00 -1.731005e+00 -1.664673e+00 -1.655099e+00   \n",
       "25%   -8.684086e-01 -8.669253e-01 -8.669712e-01 -8.325738e-01 -8.671681e-01   \n",
       "50%    2.267511e-02  2.112568e-03 -2.494574e-04 -4.741119e-04  7.834936e-02   \n",
       "75%    8.642541e-01  8.648483e-01  8.662661e-01  8.316256e-01  8.662806e-01   \n",
       "max    1.705833e+00  1.732651e+00  1.733299e+00  1.663725e+00  1.654212e+00   \n",
       "\n",
       "             Tensao  \n",
       "count  7.500000e+05  \n",
       "mean   1.000500e-16  \n",
       "std    1.000001e+00  \n",
       "min   -1.725989e+00  \n",
       "25%   -8.594338e-01  \n",
       "50%    7.121118e-03  \n",
       "75%    8.563450e-01  \n",
       "max    1.722900e+00  "
      ]
     },
     "execution_count": 8,
     "metadata": {},
     "output_type": "execute_result"
    }
   ],
   "source": [
    "pd.DataFrame(x_train_normalized, columns=features_cols_names).describe()"
   ]
  },
  {
   "cell_type": "code",
   "execution_count": 9,
   "id": "6de9cc90",
   "metadata": {},
   "outputs": [
    {
     "data": {
      "text/html": [
       "<div>\n",
       "<style scoped>\n",
       "    .dataframe tbody tr th:only-of-type {\n",
       "        vertical-align: middle;\n",
       "    }\n",
       "\n",
       "    .dataframe tbody tr th {\n",
       "        vertical-align: top;\n",
       "    }\n",
       "\n",
       "    .dataframe thead th {\n",
       "        text-align: right;\n",
       "    }\n",
       "</style>\n",
       "<table border=\"1\" class=\"dataframe\">\n",
       "  <thead>\n",
       "    <tr style=\"text-align: right;\">\n",
       "      <th></th>\n",
       "      <th>Poropressão</th>\n",
       "      <th>CoefEmp</th>\n",
       "      <th>AlfaBiot</th>\n",
       "      <th>AngAtrito</th>\n",
       "      <th>Coesao</th>\n",
       "      <th>Tensao</th>\n",
       "    </tr>\n",
       "  </thead>\n",
       "  <tbody>\n",
       "    <tr>\n",
       "      <th>count</th>\n",
       "      <td>250000.000000</td>\n",
       "      <td>250000.000000</td>\n",
       "      <td>250000.000000</td>\n",
       "      <td>250000.000000</td>\n",
       "      <td>250000.000000</td>\n",
       "      <td>250000.000000</td>\n",
       "    </tr>\n",
       "    <tr>\n",
       "      <th>mean</th>\n",
       "      <td>0.000398</td>\n",
       "      <td>-0.006091</td>\n",
       "      <td>0.001270</td>\n",
       "      <td>0.002211</td>\n",
       "      <td>-0.001687</td>\n",
       "      <td>-0.002450</td>\n",
       "    </tr>\n",
       "    <tr>\n",
       "      <th>std</th>\n",
       "      <td>0.998941</td>\n",
       "      <td>1.000387</td>\n",
       "      <td>1.000857</td>\n",
       "      <td>0.998946</td>\n",
       "      <td>1.000198</td>\n",
       "      <td>1.000180</td>\n",
       "    </tr>\n",
       "    <tr>\n",
       "      <th>min</th>\n",
       "      <td>-1.709988</td>\n",
       "      <td>-1.732278</td>\n",
       "      <td>-1.731004</td>\n",
       "      <td>-1.664673</td>\n",
       "      <td>-1.655099</td>\n",
       "      <td>-1.725989</td>\n",
       "    </tr>\n",
       "    <tr>\n",
       "      <th>25%</th>\n",
       "      <td>-0.868409</td>\n",
       "      <td>-0.871105</td>\n",
       "      <td>-0.865918</td>\n",
       "      <td>-0.832574</td>\n",
       "      <td>-0.867168</td>\n",
       "      <td>-0.859434</td>\n",
       "    </tr>\n",
       "    <tr>\n",
       "      <th>50%</th>\n",
       "      <td>0.022675</td>\n",
       "      <td>-0.011732</td>\n",
       "      <td>0.002585</td>\n",
       "      <td>-0.000474</td>\n",
       "      <td>-0.079237</td>\n",
       "      <td>-0.010210</td>\n",
       "    </tr>\n",
       "    <tr>\n",
       "      <th>75%</th>\n",
       "      <td>0.864254</td>\n",
       "      <td>0.861254</td>\n",
       "      <td>0.865297</td>\n",
       "      <td>0.831626</td>\n",
       "      <td>0.866281</td>\n",
       "      <td>0.856345</td>\n",
       "    </tr>\n",
       "    <tr>\n",
       "      <th>max</th>\n",
       "      <td>1.705833</td>\n",
       "      <td>1.732650</td>\n",
       "      <td>1.733292</td>\n",
       "      <td>1.663725</td>\n",
       "      <td>1.654212</td>\n",
       "      <td>1.722900</td>\n",
       "    </tr>\n",
       "  </tbody>\n",
       "</table>\n",
       "</div>"
      ],
      "text/plain": [
       "         Poropressão        CoefEmp       AlfaBiot      AngAtrito  \\\n",
       "count  250000.000000  250000.000000  250000.000000  250000.000000   \n",
       "mean        0.000398      -0.006091       0.001270       0.002211   \n",
       "std         0.998941       1.000387       1.000857       0.998946   \n",
       "min        -1.709988      -1.732278      -1.731004      -1.664673   \n",
       "25%        -0.868409      -0.871105      -0.865918      -0.832574   \n",
       "50%         0.022675      -0.011732       0.002585      -0.000474   \n",
       "75%         0.864254       0.861254       0.865297       0.831626   \n",
       "max         1.705833       1.732650       1.733292       1.663725   \n",
       "\n",
       "              Coesao         Tensao  \n",
       "count  250000.000000  250000.000000  \n",
       "mean       -0.001687      -0.002450  \n",
       "std         1.000198       1.000180  \n",
       "min        -1.655099      -1.725989  \n",
       "25%        -0.867168      -0.859434  \n",
       "50%        -0.079237      -0.010210  \n",
       "75%         0.866281       0.856345  \n",
       "max         1.654212       1.722900  "
      ]
     },
     "execution_count": 9,
     "metadata": {},
     "output_type": "execute_result"
    }
   ],
   "source": [
    "pd.DataFrame(x_test_normalized,columns=features_cols_names).describe()"
   ]
  },
  {
   "cell_type": "code",
   "execution_count": 10,
   "id": "cb63f3c3",
   "metadata": {},
   "outputs": [
    {
     "data": {
      "text/html": [
       "<div>\n",
       "<style scoped>\n",
       "    .dataframe tbody tr th:only-of-type {\n",
       "        vertical-align: middle;\n",
       "    }\n",
       "\n",
       "    .dataframe tbody tr th {\n",
       "        vertical-align: top;\n",
       "    }\n",
       "\n",
       "    .dataframe thead th {\n",
       "        text-align: right;\n",
       "    }\n",
       "</style>\n",
       "<table border=\"1\" class=\"dataframe\">\n",
       "  <thead>\n",
       "    <tr style=\"text-align: right;\">\n",
       "      <th></th>\n",
       "      <th>Reativa_binarized</th>\n",
       "      <th>count</th>\n",
       "      <th>Percentage</th>\n",
       "    </tr>\n",
       "  </thead>\n",
       "  <tbody>\n",
       "    <tr>\n",
       "      <th>0</th>\n",
       "      <td>0</td>\n",
       "      <td>562580</td>\n",
       "      <td>75.01</td>\n",
       "    </tr>\n",
       "    <tr>\n",
       "      <th>1</th>\n",
       "      <td>1</td>\n",
       "      <td>187420</td>\n",
       "      <td>24.99</td>\n",
       "    </tr>\n",
       "  </tbody>\n",
       "</table>\n",
       "</div>"
      ],
      "text/plain": [
       "   Reativa_binarized   count  Percentage\n",
       "0                  0  562580       75.01\n",
       "1                  1  187420       24.99"
      ]
     },
     "execution_count": 10,
     "metadata": {},
     "output_type": "execute_result"
    }
   ],
   "source": [
    "temp_df= pd.DataFrame(y_train).groupby(\"Reativa_binarized\").size().reset_index(name=\"count\")\n",
    "temp_df[\"Percentage\"] = round((temp_df[\"count\"]/temp_df[\"count\"].sum())*100, 2)\n",
    "temp_df"
   ]
  },
  {
   "cell_type": "code",
   "execution_count": 11,
   "id": "3a8448d2",
   "metadata": {},
   "outputs": [
    {
     "data": {
      "text/plain": [
       "(750000,)"
      ]
     },
     "execution_count": 11,
     "metadata": {},
     "output_type": "execute_result"
    }
   ],
   "source": [
    "y_train.shape"
   ]
  },
  {
   "cell_type": "code",
   "execution_count": 12,
   "id": "72343a7f",
   "metadata": {},
   "outputs": [
    {
     "data": {
      "text/html": [
       "<div>\n",
       "<style scoped>\n",
       "    .dataframe tbody tr th:only-of-type {\n",
       "        vertical-align: middle;\n",
       "    }\n",
       "\n",
       "    .dataframe tbody tr th {\n",
       "        vertical-align: top;\n",
       "    }\n",
       "\n",
       "    .dataframe thead th {\n",
       "        text-align: right;\n",
       "    }\n",
       "</style>\n",
       "<table border=\"1\" class=\"dataframe\">\n",
       "  <thead>\n",
       "    <tr style=\"text-align: right;\">\n",
       "      <th></th>\n",
       "      <th>Reativa_binarized</th>\n",
       "      <th>count</th>\n",
       "      <th>Percentage</th>\n",
       "    </tr>\n",
       "  </thead>\n",
       "  <tbody>\n",
       "    <tr>\n",
       "      <th>0</th>\n",
       "      <td>0</td>\n",
       "      <td>187188</td>\n",
       "      <td>74.88</td>\n",
       "    </tr>\n",
       "    <tr>\n",
       "      <th>1</th>\n",
       "      <td>1</td>\n",
       "      <td>62812</td>\n",
       "      <td>25.12</td>\n",
       "    </tr>\n",
       "  </tbody>\n",
       "</table>\n",
       "</div>"
      ],
      "text/plain": [
       "   Reativa_binarized   count  Percentage\n",
       "0                  0  187188       74.88\n",
       "1                  1   62812       25.12"
      ]
     },
     "execution_count": 12,
     "metadata": {},
     "output_type": "execute_result"
    }
   ],
   "source": [
    "temp_df= pd.DataFrame(y_test).groupby(\"Reativa_binarized\").size().reset_index(name=\"count\")\n",
    "temp_df[\"Percentage\"] = round((temp_df[\"count\"]/temp_df[\"count\"].sum())*100, 2)\n",
    "temp_df"
   ]
  },
  {
   "cell_type": "code",
   "execution_count": 13,
   "id": "f9aa4f75",
   "metadata": {},
   "outputs": [
    {
     "data": {
      "text/plain": [
       "(250000,)"
      ]
     },
     "execution_count": 13,
     "metadata": {},
     "output_type": "execute_result"
    }
   ],
   "source": [
    "y_test.shape"
   ]
  },
  {
   "cell_type": "code",
   "execution_count": 14,
   "id": "2ed21440",
   "metadata": {},
   "outputs": [
    {
     "name": "stdout",
     "output_type": "stream",
     "text": [
      "        Poropressão   CoefEmp  AlfaBiot  AngAtrito    Coesao    Tensao\n",
      "0         -1.165436  1.121599 -0.981268   0.276892 -1.024754 -0.703454\n",
      "1         -1.511969 -0.512535  0.913286  -1.525990 -0.394409 -0.304839\n",
      "2         -0.323857 -1.091544 -0.122282  -1.248624  1.654212 -0.807441\n",
      "3          0.072180 -0.971000 -1.687523   0.970309  0.078349  0.527054\n",
      "4          1.606824  0.198729  0.648233   1.386359 -0.551996 -0.374163\n",
      "...             ...       ...       ...        ...       ...       ...\n",
      "749995     0.963263  0.876697  0.326812   1.663725  0.078349  1.549589\n",
      "749996    -1.264446 -0.262883  0.284199   0.970309 -0.394409  1.566920\n",
      "749997     0.666236 -0.858136 -0.275462   0.831626  1.496626 -0.252845\n",
      "749998     1.408805  1.112035 -1.563925  -1.387307 -0.236823 -0.599467\n",
      "749999     1.260291  1.701698 -0.437701   1.525042  0.551108  1.116311\n",
      "\n",
      "[750000 rows x 6 columns]\n"
     ]
    },
    {
     "data": {
      "text/plain": [
       "([<matplotlib.axis.YTick at 0x27f3f638a90>,\n",
       "  <matplotlib.axis.YTick at 0x27f3f638670>,\n",
       "  <matplotlib.axis.YTick at 0x27f3f653790>,\n",
       "  <matplotlib.axis.YTick at 0x27f3f6c1580>,\n",
       "  <matplotlib.axis.YTick at 0x27f3f6c1a90>,\n",
       "  <matplotlib.axis.YTick at 0x27f3f6c1fa0>],\n",
       " [Text(0, 0, 'P'),\n",
       "  Text(0, 1, 'k0'),\n",
       "  Text(0, 2, 'α'),\n",
       "  Text(0, 3, 'ϕ'),\n",
       "  Text(0, 4, 'c'),\n",
       "  Text(0, 5, 'σ')])"
      ]
     },
     "execution_count": 14,
     "metadata": {},
     "output_type": "execute_result"
    },
    {
     "data": {
      "image/png": "[encoded data removed]",
      "text/plain": [
       "<Figure size 432x288 with 1 Axes>"
      ]
     },
     "metadata": {
      "needs_background": "light"
     },
     "output_type": "display_data"
    }
   ],
   "source": [
    "# BoxPlot x_train_normalized\n",
    "import matplotlib.pyplot as plt\n",
    "import seaborn as sns\n",
    "data_norm_x_train=pd.DataFrame(x_train_normalized, columns=features_cols_names)\n",
    "print(data_norm_x_train)\n",
    "ax = sns.boxplot(data=data_norm_x_train, orient=\"h\", palette=\"Set2\")\n",
    "plt.xlabel( \"Distribuição dos Valores\" , size = 11 ) \n",
    "plt.ylabel( \"Features\" , size = 11 ) \n",
    "ticks, labels = plt.yticks()\n",
    "plt.yticks(ticks, labels=['P', 'k0','α','ϕ','c','σ'], size=11)"
   ]
  },
  {
   "cell_type": "code",
   "execution_count": 15,
   "id": "18d50653",
   "metadata": {},
   "outputs": [
    {
     "name": "stdout",
     "output_type": "stream",
     "text": [
      "        Poropressão   CoefEmp  AlfaBiot  AngAtrito    Coesao    Tensao\n",
      "0         -0.868409  0.643638  0.765688   1.247675 -1.024754 -0.530143\n",
      "1         -0.125839  0.375381  0.954194   0.415576 -1.497513  0.180432\n",
      "2         -1.412960 -1.112378  1.292712  -0.277841  1.181453 -1.656664\n",
      "3          0.121684  1.350639  0.894562  -1.109940  1.023867  1.722900\n",
      "4          0.270198  1.191342 -0.676667   1.663725 -0.551996 -1.431360\n",
      "...             ...       ...       ...        ...       ...       ...\n",
      "249995     1.210787  0.696053 -0.247270   1.108992  0.866281 -0.634130\n",
      "249996    -1.214941 -0.013316  0.073892  -0.000474 -0.867168  0.215094\n",
      "249997     0.022675 -1.356885  1.181391  -1.109940  0.551108  0.232425\n",
      "249998     0.468217 -0.419524  0.151672   0.554259  1.654212  1.549589\n",
      "249999     0.517722 -1.509525 -0.904847  -1.664673  0.866281 -1.102069\n",
      "\n",
      "[250000 rows x 6 columns]\n"
     ]
    },
    {
     "data": {
      "text/plain": [
       "([<matplotlib.axis.YTick at 0x27f3f7099d0>,\n",
       "  <matplotlib.axis.YTick at 0x27f3f7095b0>,\n",
       "  <matplotlib.axis.YTick at 0x27f3f7296a0>,\n",
       "  <matplotlib.axis.YTick at 0x27f3f9964c0>,\n",
       "  <matplotlib.axis.YTick at 0x27f3f9969d0>,\n",
       "  <matplotlib.axis.YTick at 0x27f3f996dc0>],\n",
       " [Text(0, 0, 'P'),\n",
       "  Text(0, 1, 'k0'),\n",
       "  Text(0, 2, 'α'),\n",
       "  Text(0, 3, 'ϕ'),\n",
       "  Text(0, 4, 'c'),\n",
       "  Text(0, 5, 'σ')])"
      ]
     },
     "execution_count": 15,
     "metadata": {},
     "output_type": "execute_result"
    },
    {
     "data": {
      "image/png": "[encoded data removed]",
      "text/plain": [
       "<Figure size 432x288 with 1 Axes>"
      ]
     },
     "metadata": {
      "needs_background": "light"
     },
     "output_type": "display_data"
    }
   ],
   "source": [
    "# BoxPlot x_test_normalized\n",
    "import matplotlib.pyplot as plt\n",
    "import seaborn as sns\n",
    "data_norm_x_test=pd.DataFrame(x_test_normalized, columns=features_cols_names)\n",
    "print(data_norm_x_test)\n",
    "bx = sns.boxplot(data=data_norm_x_test, orient=\"h\", palette=\"Set2\")\n",
    "plt.xlabel( \"Distribuição dos Valores\" , size = 11 ) \n",
    "plt.ylabel( \"Features\" , size = 11 ) \n",
    "ticks, labels = plt.yticks()\n",
    "plt.yticks(ticks, labels=['P', 'k0','α','ϕ','c','σ'], size=11)"
   ]
  },
  {
   "cell_type": "markdown",
   "id": "f7c33f83",
   "metadata": {},
   "source": [
    "## Train a linear discriminant analysis"
   ]
  },
  {
   "cell_type": "code",
   "execution_count": 16,
   "id": "b88c41bb",
   "metadata": {},
   "outputs": [
    {
     "data": {
      "text/plain": [
       "LinearDiscriminantAnalysis()"
      ]
     },
     "execution_count": 16,
     "metadata": {},
     "output_type": "execute_result"
    }
   ],
   "source": [
    "# LDA\n",
    "#Dados de Entrada\n",
    "x_train_normalized\n",
    "#Dados de Saída\n",
    "y_train\n",
    "from sklearn.discriminant_analysis import LinearDiscriminantAnalysis\n",
    "clf = LinearDiscriminantAnalysis()\n",
    "clf.fit(x_train_normalized, y_train)\n",
    "LinearDiscriminantAnalysis()"
   ]
  },
  {
   "cell_type": "code",
   "execution_count": 17,
   "id": "5fe440f3",
   "metadata": {},
   "outputs": [
    {
     "data": {
      "text/plain": [
       "array([0, 0, 0, ..., 1, 0, 1])"
      ]
     },
     "execution_count": 17,
     "metadata": {},
     "output_type": "execute_result"
    }
   ],
   "source": [
    "clf.predict(x_test_normalized)"
   ]
  },
  {
   "cell_type": "code",
   "execution_count": 18,
   "id": "3f4362b9",
   "metadata": {},
   "outputs": [],
   "source": [
    "df_testLDA=pd.DataFrame(clf.predict(x_test_normalized))"
   ]
  },
  {
   "cell_type": "code",
   "execution_count": 19,
   "id": "160080a7",
   "metadata": {},
   "outputs": [
    {
     "name": "stdout",
     "output_type": "stream",
     "text": [
      "   LDA   count\n",
      "0    0  179798\n",
      "1    1   70202\n"
     ]
    }
   ],
   "source": [
    "df_testLDA.columns=['LDA']\n",
    "df_testLDA\n",
    "df_testLDA.count()\n",
    "aval= pd.DataFrame(df_testLDA).groupby(\"LDA\").size().reset_index(name=\"count\")\n",
    "print(aval)"
   ]
  },
  {
   "cell_type": "code",
   "execution_count": 20,
   "id": "f7eea4eb",
   "metadata": {},
   "outputs": [
    {
     "name": "stdout",
     "output_type": "stream",
     "text": [
      "Accuracy: 0.967224\n"
     ]
    }
   ],
   "source": [
    "from sklearn.metrics import accuracy_score\n",
    "\n",
    "correct = accuracy_score(y_test,df_testLDA)\n",
    "print(f\"Accuracy: {correct}\")"
   ]
  },
  {
   "cell_type": "code",
   "execution_count": 21,
   "id": "e8c8abb1",
   "metadata": {},
   "outputs": [
    {
     "data": {
      "image/png": "[encoded data removed]",
      "text/plain": [
       "<Figure size 432x288 with 2 Axes>"
      ]
     },
     "metadata": {
      "needs_background": "light"
     },
     "output_type": "display_data"
    }
   ],
   "source": [
    "import matplotlib.pyplot as plt\n",
    "from sklearn.datasets import make_classification\n",
    "from sklearn.metrics import confusion_matrix, ConfusionMatrixDisplay\n",
    "\n",
    "cm = confusion_matrix(y_test.to_list(), df_testLDA)\n",
    "disp = ConfusionMatrixDisplay(confusion_matrix=cm,\n",
    "                              display_labels=[\"0\", \"1\"])\n",
    "disp.plot(cmap=plt.cm.Blues)\n",
    "plt.show()"
   ]
  },
  {
   "cell_type": "code",
   "execution_count": 22,
   "id": "4704fb3e",
   "metadata": {},
   "outputs": [
    {
     "name": "stdout",
     "output_type": "stream",
     "text": [
      "              precision    recall  f1-score   support\n",
      "\n",
      "           0       1.00      0.96      0.98    187188\n",
      "           1       0.89      0.99      0.94     62812\n",
      "\n",
      "    accuracy                           0.97    250000\n",
      "   macro avg       0.94      0.98      0.96    250000\n",
      "weighted avg       0.97      0.97      0.97    250000\n",
      "\n"
     ]
    }
   ],
   "source": [
    "from sklearn.metrics import classification_report\n",
    "print(classification_report(y_test, df_testLDA, target_names=[\"0\", \"1\"]))"
   ]
  },
  {
   "cell_type": "code",
   "execution_count": 23,
   "id": "5a97cae4",
   "metadata": {},
   "outputs": [
    {
     "data": {
      "image/png": "[encoded data removed]",
      "text/plain": [
       "<Figure size 432x288 with 2 Axes>"
      ]
     },
     "metadata": {
      "needs_background": "light"
     },
     "output_type": "display_data"
    }
   ],
   "source": [
    "import matplotlib.pyplot as plt\n",
    "from sklearn.datasets import make_classification\n",
    "from sklearn.metrics import confusion_matrix, ConfusionMatrixDisplay\n",
    "\n",
    "cm = confusion_matrix(y_test.to_list(), df_testLDA)\n",
    "disp = ConfusionMatrixDisplay(confusion_matrix=cm,\n",
    "                              display_labels=[\"Não Reativa\", \"Reativa\"])\n",
    "disp.plot(cmap=plt.cm.Blues)\n",
    "plt.ylabel('Classificação Real')\n",
    "plt.xlabel('Classificação Prevista')\n",
    "plt.show()"
   ]
  },
  {
   "cell_type": "code",
   "execution_count": null,
   "id": "1197f00c",
   "metadata": {},
   "outputs": [],
   "source": [
    "import matplotlib.pyplot as plt\n",
    "from sklearn.datasets import make_classification\n",
    "from sklearn.metrics import confusion_matrix, ConfusionMatrixDisplay\n",
    "\n",
    "cm = confusion_matrix(y_test.to_list(), df_testLDA)\n",
    "disp = ConfusionMatrixDisplay(confusion_matrix=cm,\n",
    "                              display_labels=[\"Não Reativa\", \"Reativa\"])\n",
    "disp.plot(cmap=plt.cm.Blues)\n",
    "plt.ylabel('Classificação Real')\n",
    "plt.xlabel('Classificação Prevista')\n",
    "plt.show()"
   ]
  },
  {
   "cell_type": "code",
   "execution_count": 25,
   "id": "1a9cb563",
   "metadata": {},
   "outputs": [
    {
     "data": {
      "image/png": "[encoded data removed]",
      "text/plain": [
       "<Figure size 432x288 with 2 Axes>"
      ]
     },
     "metadata": {
      "needs_background": "light"
     },
     "output_type": "display_data"
    }
   ],
   "source": [
    "import seaborn as sns\n",
    "import matplotlib.pyplot as plt    \n",
    "\n",
    "ax= plt.subplot()\n",
    "\n",
    "cm = confusion_matrix(y_test.to_list(), df_testLDA)\n",
    "sns.heatmap(cm, annot=True, fmt='g', ax=ax, cmap=\"Blues\");  #annot=True to annotate cells, ftm='g' to disable scientific notation\n",
    "\n",
    "# labels, title and ticks\n",
    "ax.set_xlabel('Classificação Prevista');ax.set_ylabel('Classificação Real');\n",
    "#ax.set_title('Matriz de Confusão');\n",
    "ax.xaxis.set_ticklabels(['Não Reativa', 'Reativa']); ax.yaxis.set_ticklabels([ 'Não Reativa','Reativa']);"
   ]
  },
  {
   "cell_type": "code",
   "execution_count": null,
   "id": "57f27422",
   "metadata": {},
   "outputs": [],
   "source": []
  }
 ],
 "metadata": {
  "kernelspec": {
   "display_name": "Python 3",
   "language": "python",
   "name": "python3"
  },
  "language_info": {
   "codemirror_mode": {
    "name": "ipython",
    "version": 3
   },
   "file_extension": ".py",
   "mimetype": "text/x-python",
   "name": "python",
   "nbconvert_exporter": "python",
   "pygments_lexer": "ipython3",
   "version": "3.8.8"
  }
 },
 "nbformat": 4,
 "nbformat_minor": 5
}
