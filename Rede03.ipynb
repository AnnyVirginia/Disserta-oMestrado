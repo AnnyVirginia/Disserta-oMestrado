{
 "cells": [
  {
   "cell_type": "code",
   "execution_count": 2,
   "id": "5f41cace",
   "metadata": {},
   "outputs": [],
   "source": [
    "import pandas as pd\n",
    "import io\n",
    "import requests\n",
    "import numpy as np\n",
    "from sklearn import metrics\n",
    "from sklearn import preprocessing\n",
    "from sklearn.model_selection import train_test_split\n",
    "from tensorflow.keras.models import Sequential\n",
    "from tensorflow.keras.layers import Dense, Activation\n",
    "from tensorflow.keras.callbacks import EarlyStopping\n",
    "\n",
    "# Importando os dados para um dataframe\n",
    "df = pd.read_csv(\n",
    "    \"DadosFalha.csv\", \n",
    "    na_values=['NA', '?']).drop([\"Unnamed: 0\",\"F\"], axis=1)\n",
    "    \n",
    "lb = preprocessing.LabelBinarizer()\n",
    "df[\"Reativa_binarized\"] = lb.fit_transform(df['Reativa'])\n",
    "\n",
    "# Convert to numpy - Classification\n",
    "features_cols_names = ['Poropressão', 'CoefEmp', 'AlfaBiot', 'AngAtrito','Coesao','Tensao']\n",
    "x = df[features_cols_names].values\n",
    "y = df[\"Reativa_binarized\"]"
   ]
  },
  {
   "cell_type": "code",
   "execution_count": 3,
   "id": "5b41a31f",
   "metadata": {},
   "outputs": [
    {
     "name": "stdout",
     "output_type": "stream",
     "text": [
      "Amount of data:  1000000\n"
     ]
    }
   ],
   "source": [
    "print(\"Amount of data: \", df.shape[0])"
   ]
  },
  {
   "cell_type": "markdown",
   "id": "35aaa6e1",
   "metadata": {},
   "source": [
    "## Analysing label distribution"
   ]
  },
  {
   "cell_type": "code",
   "execution_count": 4,
   "id": "396ec35a",
   "metadata": {},
   "outputs": [
    {
     "data": {
      "text/html": [
       "<div>\n",
       "<style scoped>\n",
       "    .dataframe tbody tr th:only-of-type {\n",
       "        vertical-align: middle;\n",
       "    }\n",
       "\n",
       "    .dataframe tbody tr th {\n",
       "        vertical-align: top;\n",
       "    }\n",
       "\n",
       "    .dataframe thead th {\n",
       "        text-align: right;\n",
       "    }\n",
       "</style>\n",
       "<table border=\"1\" class=\"dataframe\">\n",
       "  <thead>\n",
       "    <tr style=\"text-align: right;\">\n",
       "      <th></th>\n",
       "      <th>Reativa</th>\n",
       "      <th>Reativa_binarized</th>\n",
       "      <th>count</th>\n",
       "      <th>Percentage</th>\n",
       "    </tr>\n",
       "  </thead>\n",
       "  <tbody>\n",
       "    <tr>\n",
       "      <th>0</th>\n",
       "      <td>Não Reativa</td>\n",
       "      <td>0</td>\n",
       "      <td>749768</td>\n",
       "      <td>74.98</td>\n",
       "    </tr>\n",
       "    <tr>\n",
       "      <th>1</th>\n",
       "      <td>Reativa</td>\n",
       "      <td>1</td>\n",
       "      <td>250232</td>\n",
       "      <td>25.02</td>\n",
       "    </tr>\n",
       "  </tbody>\n",
       "</table>\n",
       "</div>"
      ],
      "text/plain": [
       "       Reativa  Reativa_binarized   count  Percentage\n",
       "0  Não Reativa                  0  749768       74.98\n",
       "1      Reativa                  1  250232       25.02"
      ]
     },
     "execution_count": 4,
     "metadata": {},
     "output_type": "execute_result"
    }
   ],
   "source": [
    "temp_df = df.groupby([\"Reativa\", \"Reativa_binarized\"]).size().reset_index(name=\"count\")\n",
    "temp_df[\"Percentage\"] = round((temp_df[\"count\"]/temp_df[\"count\"].sum())*100, 2)\n",
    "temp_df"
   ]
  },
  {
   "cell_type": "markdown",
   "id": "615ef981",
   "metadata": {},
   "source": [
    "## Analyzing features distributions"
   ]
  },
  {
   "cell_type": "code",
   "execution_count": 5,
   "id": "583e32de",
   "metadata": {},
   "outputs": [
    {
     "data": {
      "text/plain": [
       "([<matplotlib.axis.YTick at 0x216c7a6d610>,\n",
       "  <matplotlib.axis.YTick at 0x216c7a6d1f0>,\n",
       "  <matplotlib.axis.YTick at 0x216c7a8f970>,\n",
       "  <matplotlib.axis.YTick at 0x216c989b5b0>,\n",
       "  <matplotlib.axis.YTick at 0x216c989bac0>,\n",
       "  <matplotlib.axis.YTick at 0x216c989bfd0>],\n",
       " [Text(0, 0, 'P'),\n",
       "  Text(0, 1, 'k0'),\n",
       "  Text(0, 2, 'α'),\n",
       "  Text(0, 3, 'ϕ'),\n",
       "  Text(0, 4, 'c'),\n",
       "  Text(0, 5, 'σ')])"
      ]
     },
     "execution_count": 5,
     "metadata": {},
     "output_type": "execute_result"
    },
    {
     "data": {
      "image/png": "[encoded data removed]",
      "text/plain": [
       "<Figure size 432x288 with 1 Axes>"
      ]
     },
     "metadata": {
      "needs_background": "light"
     },
     "output_type": "display_data"
    }
   ],
   "source": [
    "import matplotlib.pyplot as plt\n",
    "import seaborn as sns\n",
    "plt.xlabel( \"Distribuição dos Valores\" , size = 11 ) \n",
    "plt.ylabel( \"Features\" , size = 11 ) \n",
    "ax = sns.boxplot(data=df[features_cols_names], orient=\"h\",palette=\"Set2\")\n",
    "ticks, labels = plt.yticks()\n",
    "plt.yticks(ticks, labels=['P', 'k0','α','ϕ','c','σ'], size=11)\n"
   ]
  },
  {
   "cell_type": "markdown",
   "id": "a46d3501",
   "metadata": {},
   "source": [
    "## Some conclusions\n",
    "    -Looking at the boxplot above, we can see that each feature has its own kind of distribution which seems to be not Normal. Furthermore, the range of values varies over the features.\n",
    "    -Given that, we should normalize the features before building a neural network model"
   ]
  },
  {
   "cell_type": "code",
   "execution_count": 6,
   "id": "3f14ca56",
   "metadata": {},
   "outputs": [],
   "source": [
    "from sklearn.preprocessing import StandardScaler\n",
    "\n",
    "# Split into validation and training sets\n",
    "x_train, x_test, y_train, y_test = train_test_split(    \n",
    "    x, y, test_size=0.25, random_state=42)\n",
    "\n",
    "scaler = StandardScaler()\n",
    "scaler.fit(x_train)\n",
    "\n",
    "x_train_normalized = scaler.transform(x_train)\n",
    "x_test_normalized = scaler.transform(x_test)"
   ]
  },
  {
   "cell_type": "code",
   "execution_count": 7,
   "id": "9e3b1a0a",
   "metadata": {},
   "outputs": [
    {
     "data": {
      "text/html": [
       "<div>\n",
       "<style scoped>\n",
       "    .dataframe tbody tr th:only-of-type {\n",
       "        vertical-align: middle;\n",
       "    }\n",
       "\n",
       "    .dataframe tbody tr th {\n",
       "        vertical-align: top;\n",
       "    }\n",
       "\n",
       "    .dataframe thead th {\n",
       "        text-align: right;\n",
       "    }\n",
       "</style>\n",
       "<table border=\"1\" class=\"dataframe\">\n",
       "  <thead>\n",
       "    <tr style=\"text-align: right;\">\n",
       "      <th></th>\n",
       "      <th>Poropressão</th>\n",
       "      <th>CoefEmp</th>\n",
       "      <th>AlfaBiot</th>\n",
       "      <th>AngAtrito</th>\n",
       "      <th>Coesao</th>\n",
       "      <th>Tensao</th>\n",
       "    </tr>\n",
       "  </thead>\n",
       "  <tbody>\n",
       "    <tr>\n",
       "      <th>count</th>\n",
       "      <td>7.500000e+05</td>\n",
       "      <td>7.500000e+05</td>\n",
       "      <td>7.500000e+05</td>\n",
       "      <td>7.500000e+05</td>\n",
       "      <td>7.500000e+05</td>\n",
       "      <td>7.500000e+05</td>\n",
       "    </tr>\n",
       "    <tr>\n",
       "      <th>mean</th>\n",
       "      <td>3.706718e-16</td>\n",
       "      <td>4.044494e-14</td>\n",
       "      <td>1.907571e-14</td>\n",
       "      <td>-7.099160e-16</td>\n",
       "      <td>4.246801e-16</td>\n",
       "      <td>1.000500e-16</td>\n",
       "    </tr>\n",
       "    <tr>\n",
       "      <th>std</th>\n",
       "      <td>1.000001e+00</td>\n",
       "      <td>1.000001e+00</td>\n",
       "      <td>1.000001e+00</td>\n",
       "      <td>1.000001e+00</td>\n",
       "      <td>1.000001e+00</td>\n",
       "      <td>1.000001e+00</td>\n",
       "    </tr>\n",
       "    <tr>\n",
       "      <th>min</th>\n",
       "      <td>-1.709988e+00</td>\n",
       "      <td>-1.732320e+00</td>\n",
       "      <td>-1.731005e+00</td>\n",
       "      <td>-1.664673e+00</td>\n",
       "      <td>-1.655099e+00</td>\n",
       "      <td>-1.725989e+00</td>\n",
       "    </tr>\n",
       "    <tr>\n",
       "      <th>25%</th>\n",
       "      <td>-8.684086e-01</td>\n",
       "      <td>-8.669253e-01</td>\n",
       "      <td>-8.669712e-01</td>\n",
       "      <td>-8.325738e-01</td>\n",
       "      <td>-8.671681e-01</td>\n",
       "      <td>-8.594338e-01</td>\n",
       "    </tr>\n",
       "    <tr>\n",
       "      <th>50%</th>\n",
       "      <td>2.267511e-02</td>\n",
       "      <td>2.112568e-03</td>\n",
       "      <td>-2.494574e-04</td>\n",
       "      <td>-4.741119e-04</td>\n",
       "      <td>7.834936e-02</td>\n",
       "      <td>7.121118e-03</td>\n",
       "    </tr>\n",
       "    <tr>\n",
       "      <th>75%</th>\n",
       "      <td>8.642541e-01</td>\n",
       "      <td>8.648483e-01</td>\n",
       "      <td>8.662661e-01</td>\n",
       "      <td>8.316256e-01</td>\n",
       "      <td>8.662806e-01</td>\n",
       "      <td>8.563450e-01</td>\n",
       "    </tr>\n",
       "    <tr>\n",
       "      <th>max</th>\n",
       "      <td>1.705833e+00</td>\n",
       "      <td>1.732651e+00</td>\n",
       "      <td>1.733299e+00</td>\n",
       "      <td>1.663725e+00</td>\n",
       "      <td>1.654212e+00</td>\n",
       "      <td>1.722900e+00</td>\n",
       "    </tr>\n",
       "  </tbody>\n",
       "</table>\n",
       "</div>"
      ],
      "text/plain": [
       "        Poropressão       CoefEmp      AlfaBiot     AngAtrito        Coesao  \\\n",
       "count  7.500000e+05  7.500000e+05  7.500000e+05  7.500000e+05  7.500000e+05   \n",
       "mean   3.706718e-16  4.044494e-14  1.907571e-14 -7.099160e-16  4.246801e-16   \n",
       "std    1.000001e+00  1.000001e+00  1.000001e+00  1.000001e+00  1.000001e+00   \n",
       "min   -1.709988e+00 -1.732320e+00 -1.731005e+00 -1.664673e+00 -1.655099e+00   \n",
       "25%   -8.684086e-01 -8.669253e-01 -8.669712e-01 -8.325738e-01 -8.671681e-01   \n",
       "50%    2.267511e-02  2.112568e-03 -2.494574e-04 -4.741119e-04  7.834936e-02   \n",
       "75%    8.642541e-01  8.648483e-01  8.662661e-01  8.316256e-01  8.662806e-01   \n",
       "max    1.705833e+00  1.732651e+00  1.733299e+00  1.663725e+00  1.654212e+00   \n",
       "\n",
       "             Tensao  \n",
       "count  7.500000e+05  \n",
       "mean   1.000500e-16  \n",
       "std    1.000001e+00  \n",
       "min   -1.725989e+00  \n",
       "25%   -8.594338e-01  \n",
       "50%    7.121118e-03  \n",
       "75%    8.563450e-01  \n",
       "max    1.722900e+00  "
      ]
     },
     "execution_count": 7,
     "metadata": {},
     "output_type": "execute_result"
    }
   ],
   "source": [
    "pd.DataFrame(x_train_normalized, columns=features_cols_names).describe()"
   ]
  },
  {
   "cell_type": "code",
   "execution_count": 8,
   "id": "53c548da",
   "metadata": {},
   "outputs": [
    {
     "data": {
      "text/html": [
       "<div>\n",
       "<style scoped>\n",
       "    .dataframe tbody tr th:only-of-type {\n",
       "        vertical-align: middle;\n",
       "    }\n",
       "\n",
       "    .dataframe tbody tr th {\n",
       "        vertical-align: top;\n",
       "    }\n",
       "\n",
       "    .dataframe thead th {\n",
       "        text-align: right;\n",
       "    }\n",
       "</style>\n",
       "<table border=\"1\" class=\"dataframe\">\n",
       "  <thead>\n",
       "    <tr style=\"text-align: right;\">\n",
       "      <th></th>\n",
       "      <th>Poropressão</th>\n",
       "      <th>CoefEmp</th>\n",
       "      <th>AlfaBiot</th>\n",
       "      <th>AngAtrito</th>\n",
       "      <th>Coesao</th>\n",
       "      <th>Tensao</th>\n",
       "    </tr>\n",
       "  </thead>\n",
       "  <tbody>\n",
       "    <tr>\n",
       "      <th>count</th>\n",
       "      <td>250000.000000</td>\n",
       "      <td>250000.000000</td>\n",
       "      <td>250000.000000</td>\n",
       "      <td>250000.000000</td>\n",
       "      <td>250000.000000</td>\n",
       "      <td>250000.000000</td>\n",
       "    </tr>\n",
       "    <tr>\n",
       "      <th>mean</th>\n",
       "      <td>0.000398</td>\n",
       "      <td>-0.006091</td>\n",
       "      <td>0.001270</td>\n",
       "      <td>0.002211</td>\n",
       "      <td>-0.001687</td>\n",
       "      <td>-0.002450</td>\n",
       "    </tr>\n",
       "    <tr>\n",
       "      <th>std</th>\n",
       "      <td>0.998941</td>\n",
       "      <td>1.000387</td>\n",
       "      <td>1.000857</td>\n",
       "      <td>0.998946</td>\n",
       "      <td>1.000198</td>\n",
       "      <td>1.000180</td>\n",
       "    </tr>\n",
       "    <tr>\n",
       "      <th>min</th>\n",
       "      <td>-1.709988</td>\n",
       "      <td>-1.732278</td>\n",
       "      <td>-1.731004</td>\n",
       "      <td>-1.664673</td>\n",
       "      <td>-1.655099</td>\n",
       "      <td>-1.725989</td>\n",
       "    </tr>\n",
       "    <tr>\n",
       "      <th>25%</th>\n",
       "      <td>-0.868409</td>\n",
       "      <td>-0.871105</td>\n",
       "      <td>-0.865918</td>\n",
       "      <td>-0.832574</td>\n",
       "      <td>-0.867168</td>\n",
       "      <td>-0.859434</td>\n",
       "    </tr>\n",
       "    <tr>\n",
       "      <th>50%</th>\n",
       "      <td>0.022675</td>\n",
       "      <td>-0.011732</td>\n",
       "      <td>0.002585</td>\n",
       "      <td>-0.000474</td>\n",
       "      <td>-0.079237</td>\n",
       "      <td>-0.010210</td>\n",
       "    </tr>\n",
       "    <tr>\n",
       "      <th>75%</th>\n",
       "      <td>0.864254</td>\n",
       "      <td>0.861254</td>\n",
       "      <td>0.865297</td>\n",
       "      <td>0.831626</td>\n",
       "      <td>0.866281</td>\n",
       "      <td>0.856345</td>\n",
       "    </tr>\n",
       "    <tr>\n",
       "      <th>max</th>\n",
       "      <td>1.705833</td>\n",
       "      <td>1.732650</td>\n",
       "      <td>1.733292</td>\n",
       "      <td>1.663725</td>\n",
       "      <td>1.654212</td>\n",
       "      <td>1.722900</td>\n",
       "    </tr>\n",
       "  </tbody>\n",
       "</table>\n",
       "</div>"
      ],
      "text/plain": [
       "         Poropressão        CoefEmp       AlfaBiot      AngAtrito  \\\n",
       "count  250000.000000  250000.000000  250000.000000  250000.000000   \n",
       "mean        0.000398      -0.006091       0.001270       0.002211   \n",
       "std         0.998941       1.000387       1.000857       0.998946   \n",
       "min        -1.709988      -1.732278      -1.731004      -1.664673   \n",
       "25%        -0.868409      -0.871105      -0.865918      -0.832574   \n",
       "50%         0.022675      -0.011732       0.002585      -0.000474   \n",
       "75%         0.864254       0.861254       0.865297       0.831626   \n",
       "max         1.705833       1.732650       1.733292       1.663725   \n",
       "\n",
       "              Coesao         Tensao  \n",
       "count  250000.000000  250000.000000  \n",
       "mean       -0.001687      -0.002450  \n",
       "std         1.000198       1.000180  \n",
       "min        -1.655099      -1.725989  \n",
       "25%        -0.867168      -0.859434  \n",
       "50%        -0.079237      -0.010210  \n",
       "75%         0.866281       0.856345  \n",
       "max         1.654212       1.722900  "
      ]
     },
     "execution_count": 8,
     "metadata": {},
     "output_type": "execute_result"
    }
   ],
   "source": [
    "pd.DataFrame(x_test_normalized,columns=features_cols_names).describe()"
   ]
  },
  {
   "cell_type": "code",
   "execution_count": 9,
   "id": "fee5dfb6",
   "metadata": {},
   "outputs": [
    {
     "data": {
      "text/html": [
       "<div>\n",
       "<style scoped>\n",
       "    .dataframe tbody tr th:only-of-type {\n",
       "        vertical-align: middle;\n",
       "    }\n",
       "\n",
       "    .dataframe tbody tr th {\n",
       "        vertical-align: top;\n",
       "    }\n",
       "\n",
       "    .dataframe thead th {\n",
       "        text-align: right;\n",
       "    }\n",
       "</style>\n",
       "<table border=\"1\" class=\"dataframe\">\n",
       "  <thead>\n",
       "    <tr style=\"text-align: right;\">\n",
       "      <th></th>\n",
       "      <th>Reativa_binarized</th>\n",
       "      <th>count</th>\n",
       "      <th>Percentage</th>\n",
       "    </tr>\n",
       "  </thead>\n",
       "  <tbody>\n",
       "    <tr>\n",
       "      <th>0</th>\n",
       "      <td>0</td>\n",
       "      <td>562580</td>\n",
       "      <td>75.01</td>\n",
       "    </tr>\n",
       "    <tr>\n",
       "      <th>1</th>\n",
       "      <td>1</td>\n",
       "      <td>187420</td>\n",
       "      <td>24.99</td>\n",
       "    </tr>\n",
       "  </tbody>\n",
       "</table>\n",
       "</div>"
      ],
      "text/plain": [
       "   Reativa_binarized   count  Percentage\n",
       "0                  0  562580       75.01\n",
       "1                  1  187420       24.99"
      ]
     },
     "execution_count": 9,
     "metadata": {},
     "output_type": "execute_result"
    }
   ],
   "source": [
    "temp_df= pd.DataFrame(y_train).groupby(\"Reativa_binarized\").size().reset_index(name=\"count\")\n",
    "temp_df[\"Percentage\"] = round((temp_df[\"count\"]/temp_df[\"count\"].sum())*100, 2)\n",
    "temp_df"
   ]
  },
  {
   "cell_type": "code",
   "execution_count": 10,
   "id": "a9954037",
   "metadata": {},
   "outputs": [
    {
     "data": {
      "text/plain": [
       "(750000,)"
      ]
     },
     "execution_count": 10,
     "metadata": {},
     "output_type": "execute_result"
    }
   ],
   "source": [
    "y_train.shape"
   ]
  },
  {
   "cell_type": "code",
   "execution_count": 11,
   "id": "699e21d9",
   "metadata": {},
   "outputs": [
    {
     "data": {
      "text/html": [
       "<div>\n",
       "<style scoped>\n",
       "    .dataframe tbody tr th:only-of-type {\n",
       "        vertical-align: middle;\n",
       "    }\n",
       "\n",
       "    .dataframe tbody tr th {\n",
       "        vertical-align: top;\n",
       "    }\n",
       "\n",
       "    .dataframe thead th {\n",
       "        text-align: right;\n",
       "    }\n",
       "</style>\n",
       "<table border=\"1\" class=\"dataframe\">\n",
       "  <thead>\n",
       "    <tr style=\"text-align: right;\">\n",
       "      <th></th>\n",
       "      <th>Reativa_binarized</th>\n",
       "      <th>count</th>\n",
       "      <th>Percentage</th>\n",
       "    </tr>\n",
       "  </thead>\n",
       "  <tbody>\n",
       "    <tr>\n",
       "      <th>0</th>\n",
       "      <td>0</td>\n",
       "      <td>187188</td>\n",
       "      <td>74.88</td>\n",
       "    </tr>\n",
       "    <tr>\n",
       "      <th>1</th>\n",
       "      <td>1</td>\n",
       "      <td>62812</td>\n",
       "      <td>25.12</td>\n",
       "    </tr>\n",
       "  </tbody>\n",
       "</table>\n",
       "</div>"
      ],
      "text/plain": [
       "   Reativa_binarized   count  Percentage\n",
       "0                  0  187188       74.88\n",
       "1                  1   62812       25.12"
      ]
     },
     "execution_count": 11,
     "metadata": {},
     "output_type": "execute_result"
    }
   ],
   "source": [
    "temp_df= pd.DataFrame(y_test).groupby(\"Reativa_binarized\").size().reset_index(name=\"count\")\n",
    "temp_df[\"Percentage\"] = round((temp_df[\"count\"]/temp_df[\"count\"].sum())*100, 2)\n",
    "temp_df"
   ]
  },
  {
   "cell_type": "code",
   "execution_count": 12,
   "id": "4a0c278a",
   "metadata": {},
   "outputs": [
    {
     "data": {
      "text/plain": [
       "(250000,)"
      ]
     },
     "execution_count": 12,
     "metadata": {},
     "output_type": "execute_result"
    }
   ],
   "source": [
    "y_test.shape"
   ]
  },
  {
   "cell_type": "code",
   "execution_count": 13,
   "id": "ad129622",
   "metadata": {},
   "outputs": [
    {
     "name": "stdout",
     "output_type": "stream",
     "text": [
      "        Poropressão   CoefEmp  AlfaBiot  AngAtrito    Coesao    Tensao\n",
      "0         -1.165436  1.121599 -0.981268   0.276892 -1.024754 -0.703454\n",
      "1         -1.511969 -0.512535  0.913286  -1.525990 -0.394409 -0.304839\n",
      "2         -0.323857 -1.091544 -0.122282  -1.248624  1.654212 -0.807441\n",
      "3          0.072180 -0.971000 -1.687523   0.970309  0.078349  0.527054\n",
      "4          1.606824  0.198729  0.648233   1.386359 -0.551996 -0.374163\n",
      "...             ...       ...       ...        ...       ...       ...\n",
      "749995     0.963263  0.876697  0.326812   1.663725  0.078349  1.549589\n",
      "749996    -1.264446 -0.262883  0.284199   0.970309 -0.394409  1.566920\n",
      "749997     0.666236 -0.858136 -0.275462   0.831626  1.496626 -0.252845\n",
      "749998     1.408805  1.112035 -1.563925  -1.387307 -0.236823 -0.599467\n",
      "749999     1.260291  1.701698 -0.437701   1.525042  0.551108  1.116311\n",
      "\n",
      "[750000 rows x 6 columns]\n"
     ]
    },
    {
     "data": {
      "text/plain": [
       "([<matplotlib.axis.YTick at 0x216c8212160>,\n",
       "  <matplotlib.axis.YTick at 0x216c820fd00>,\n",
       "  <matplotlib.axis.YTick at 0x216c8227df0>,\n",
       "  <matplotlib.axis.YTick at 0x216c8294c10>,\n",
       "  <matplotlib.axis.YTick at 0x216c8227d60>,\n",
       "  <matplotlib.axis.YTick at 0x216c829e4c0>],\n",
       " [Text(0, 0, 'P'),\n",
       "  Text(0, 1, 'k0'),\n",
       "  Text(0, 2, 'α'),\n",
       "  Text(0, 3, 'ϕ'),\n",
       "  Text(0, 4, 'c'),\n",
       "  Text(0, 5, 'σ')])"
      ]
     },
     "execution_count": 13,
     "metadata": {},
     "output_type": "execute_result"
    },
    {
     "data": {
      "image/png": "[encoded data removed]",
      "text/plain": [
       "<Figure size 432x288 with 1 Axes>"
      ]
     },
     "metadata": {
      "needs_background": "light"
     },
     "output_type": "display_data"
    }
   ],
   "source": [
    "# BoxPlot x_train_normalized\n",
    "import matplotlib.pyplot as plt\n",
    "import seaborn as sns\n",
    "data_norm_x_train=pd.DataFrame(x_train_normalized, columns=features_cols_names)\n",
    "print(data_norm_x_train)\n",
    "ax = sns.boxplot(data=data_norm_x_train, orient=\"h\", palette=\"Set2\")\n",
    "plt.xlabel( \"Distribuição dos Valores\" , size = 11 ) \n",
    "plt.ylabel( \"Features\" , size = 11 ) \n",
    "ticks, labels = plt.yticks()\n",
    "plt.yticks(ticks, labels=['P', 'k0','α','ϕ','c','σ'], size=11)\n"
   ]
  },
  {
   "cell_type": "code",
   "execution_count": 14,
   "id": "5b9ff7dd",
   "metadata": {},
   "outputs": [
    {
     "name": "stdout",
     "output_type": "stream",
     "text": [
      "        Poropressão   CoefEmp  AlfaBiot  AngAtrito    Coesao    Tensao\n",
      "0         -0.868409  0.643638  0.765688   1.247675 -1.024754 -0.530143\n",
      "1         -0.125839  0.375381  0.954194   0.415576 -1.497513  0.180432\n",
      "2         -1.412960 -1.112378  1.292712  -0.277841  1.181453 -1.656664\n",
      "3          0.121684  1.350639  0.894562  -1.109940  1.023867  1.722900\n",
      "4          0.270198  1.191342 -0.676667   1.663725 -0.551996 -1.431360\n",
      "...             ...       ...       ...        ...       ...       ...\n",
      "249995     1.210787  0.696053 -0.247270   1.108992  0.866281 -0.634130\n",
      "249996    -1.214941 -0.013316  0.073892  -0.000474 -0.867168  0.215094\n",
      "249997     0.022675 -1.356885  1.181391  -1.109940  0.551108  0.232425\n",
      "249998     0.468217 -0.419524  0.151672   0.554259  1.654212  1.549589\n",
      "249999     0.517722 -1.509525 -0.904847  -1.664673  0.866281 -1.102069\n",
      "\n",
      "[250000 rows x 6 columns]\n"
     ]
    },
    {
     "data": {
      "text/plain": [
       "([<matplotlib.axis.YTick at 0x216c82e2ee0>,\n",
       "  <matplotlib.axis.YTick at 0x216c82e2ac0>,\n",
       "  <matplotlib.axis.YTick at 0x216c82fbbb0>,\n",
       "  <matplotlib.axis.YTick at 0x216c836c9a0>,\n",
       "  <matplotlib.axis.YTick at 0x216c836ceb0>,\n",
       "  <matplotlib.axis.YTick at 0x216c836c6d0>],\n",
       " [Text(0, 0, 'P'),\n",
       "  Text(0, 1, 'k0'),\n",
       "  Text(0, 2, 'α'),\n",
       "  Text(0, 3, 'ϕ'),\n",
       "  Text(0, 4, 'c'),\n",
       "  Text(0, 5, 'σ')])"
      ]
     },
     "execution_count": 14,
     "metadata": {},
     "output_type": "execute_result"
    },
    {
     "data": {
      "image/png": "[encoded data removed]",
      "text/plain": [
       "<Figure size 432x288 with 1 Axes>"
      ]
     },
     "metadata": {
      "needs_background": "light"
     },
     "output_type": "display_data"
    }
   ],
   "source": [
    "# BoxPlot x_test_normalized\n",
    "import matplotlib.pyplot as plt\n",
    "import seaborn as sns\n",
    "data_norm_x_test=pd.DataFrame(x_test_normalized, columns=features_cols_names)\n",
    "print(data_norm_x_test)\n",
    "bx = sns.boxplot(data=data_norm_x_test, orient=\"h\", palette=\"Set2\")\n",
    "plt.xlabel( \"Distribuição dos Valores\" , size = 11 ) \n",
    "plt.ylabel( \"Features\" , size = 11 ) \n",
    "ticks, labels = plt.yticks()\n",
    "plt.yticks(ticks, labels=['P', 'k0','α','ϕ','c','σ'], size=11)"
   ]
  },
  {
   "cell_type": "markdown",
   "id": "ff538fd7",
   "metadata": {},
   "source": [
    "## Train a neural network model using keras framework"
   ]
  },
  {
   "cell_type": "code",
   "execution_count": 15,
   "id": "7c60f43e",
   "metadata": {},
   "outputs": [
    {
     "name": "stdout",
     "output_type": "stream",
     "text": [
      "Epoch 1/1000\n",
      "23438/23438 - 20s - loss: 0.0389 - acc: 0.9883 - val_loss: 0.0180 - val_acc: 0.9948\n",
      "Epoch 2/1000\n",
      "23438/23438 - 19s - loss: 0.0149 - acc: 0.9955 - val_loss: 0.0125 - val_acc: 0.9965\n",
      "Epoch 3/1000\n",
      "23438/23438 - 19s - loss: 0.0116 - acc: 0.9963 - val_loss: 0.0119 - val_acc: 0.9951\n",
      "Epoch 4/1000\n",
      "23438/23438 - 20s - loss: 0.0099 - acc: 0.9968 - val_loss: 0.0090 - val_acc: 0.9972\n",
      "Epoch 5/1000\n",
      "23438/23438 - 20s - loss: 0.0088 - acc: 0.9972 - val_loss: 0.0081 - val_acc: 0.9976\n",
      "Epoch 6/1000\n",
      "23438/23438 - 20s - loss: 0.0080 - acc: 0.9974 - val_loss: 0.0080 - val_acc: 0.9972\n",
      "Epoch 7/1000\n",
      "23438/23438 - 20s - loss: 0.0075 - acc: 0.9975 - val_loss: 0.0077 - val_acc: 0.9972\n",
      "Epoch 8/1000\n",
      "23438/23438 - 20s - loss: 0.0071 - acc: 0.9975 - val_loss: 0.0071 - val_acc: 0.9975\n",
      "Epoch 9/1000\n",
      "23438/23438 - 20s - loss: 0.0067 - acc: 0.9977 - val_loss: 0.0074 - val_acc: 0.9970\n",
      "Epoch 10/1000\n",
      "23438/23438 - 20s - loss: 0.0064 - acc: 0.9978 - val_loss: 0.0060 - val_acc: 0.9981\n",
      "Epoch 11/1000\n",
      "23438/23438 - 20s - loss: 0.0062 - acc: 0.9979 - val_loss: 0.0063 - val_acc: 0.9976\n",
      "Epoch 12/1000\n",
      "23438/23438 - 20s - loss: 0.0060 - acc: 0.9978 - val_loss: 0.0057 - val_acc: 0.9981\n",
      "Epoch 13/1000\n",
      "23438/23438 - 20s - loss: 0.0058 - acc: 0.9979 - val_loss: 0.0054 - val_acc: 0.9981\n",
      "Epoch 14/1000\n",
      "23438/23438 - 20s - loss: 0.0057 - acc: 0.9980 - val_loss: 0.0055 - val_acc: 0.9980\n",
      "Epoch 15/1000\n",
      "Restoring model weights from the end of the best epoch.\n",
      "23438/23438 - 20s - loss: 0.0055 - acc: 0.9979 - val_loss: 0.0052 - val_acc: 0.9981\n",
      "Epoch 00015: early stopping\n"
     ]
    }
   ],
   "source": [
    "# Build neural network\n",
    "model = Sequential()\n",
    "model.add(Dense(25, input_dim=x.shape[1], activation='tanh')) # Hidden 1\n",
    "model.add(Dense(1, activation='sigmoid')) # Output\n",
    "model.compile(loss='binary_crossentropy', optimizer='adam', metrics=['acc'])\n",
    "\n",
    "monitor = EarlyStopping(monitor='val_loss',\n",
    "                        min_delta=1e-3, patience=5, \n",
    "                        verbose=1,\n",
    "                        mode='auto',\n",
    "                        restore_best_weights=True,\n",
    "                        )\n",
    "\n",
    "history=model.fit(x_train_normalized,\n",
    "          y_train,\n",
    "          validation_data=(x_test_normalized,y_test),\n",
    "          callbacks=[monitor],\n",
    "          verbose=2,\n",
    "          epochs=1000,\n",
    "          )"
   ]
  },
  {
   "cell_type": "code",
   "execution_count": 16,
   "id": "58791484",
   "metadata": {},
   "outputs": [
    {
     "name": "stdout",
     "output_type": "stream",
     "text": [
      "Evaluate on test data\n",
      "1954/1954 [==============================] - 1s 655us/step - loss: 0.0060 - acc: 0.9981\n",
      "test loss, test acc: [0.0060033961199223995, 0.9981240034103394]\n"
     ]
    }
   ],
   "source": [
    "# Evaluate the model on the test data using `evaluate`\n",
    "print(\"Evaluate on test data\")\n",
    "results = model.evaluate(x_test_normalized, y_test, batch_size=128)\n",
    "print(\"test loss, test acc:\", results)"
   ]
  },
  {
   "cell_type": "code",
   "execution_count": 17,
   "id": "83cf8532",
   "metadata": {},
   "outputs": [
    {
     "name": "stdout",
     "output_type": "stream",
     "text": [
      "[[0.0000000e+00]\n",
      " [4.5272388e-31]\n",
      " [1.9258860e-11]\n",
      " ...\n",
      " [1.0000000e+00]\n",
      " [3.9722110e-21]\n",
      " [1.0000000e+00]]\n",
      "[0 0 0 ... 1 0 1]\n",
      "Accuracy: 0.998124\n"
     ]
    }
   ],
   "source": [
    "from sklearn.metrics import accuracy_score\n",
    "\n",
    "pred = model.predict(x_test_normalized)\n",
    "print(pred)\n",
    "predict_classes = ((pred > 0.5)+0).ravel()\n",
    "print(predict_classes)\n",
    "correct = accuracy_score(y_test,predict_classes)\n",
    "print(f\"Accuracy: {correct}\")"
   ]
  },
  {
   "cell_type": "code",
   "execution_count": 18,
   "id": "2a00b6a0",
   "metadata": {},
   "outputs": [
    {
     "name": "stdout",
     "output_type": "stream",
     "text": [
      "              precision    recall  f1-score   support\n",
      "\n",
      "           0       1.00      1.00      1.00    187188\n",
      "           1       1.00      1.00      1.00     62812\n",
      "\n",
      "    accuracy                           1.00    250000\n",
      "   macro avg       1.00      1.00      1.00    250000\n",
      "weighted avg       1.00      1.00      1.00    250000\n",
      "\n"
     ]
    }
   ],
   "source": [
    "from sklearn.metrics import classification_report\n",
    "print(classification_report(y_test, predict_classes, target_names=[\"0\", \"1\"]))"
   ]
  },
  {
   "cell_type": "code",
   "execution_count": 19,
   "id": "93f9c1b5",
   "metadata": {},
   "outputs": [
    {
     "data": {
      "image/png": "[encoded data removed]",
      "text/plain": [
       "<Figure size 432x288 with 2 Axes>"
      ]
     },
     "metadata": {
      "needs_background": "light"
     },
     "output_type": "display_data"
    }
   ],
   "source": [
    "import matplotlib.pyplot as plt\n",
    "from sklearn.datasets import make_classification\n",
    "from sklearn.metrics import confusion_matrix, ConfusionMatrixDisplay\n",
    "\n",
    "cm = confusion_matrix(y_test.to_list(), list(predict_classes))\n",
    "disp = ConfusionMatrixDisplay(confusion_matrix=cm,\n",
    "                              display_labels=[\"0\", \"1\"])\n",
    "disp.plot(cmap=plt.cm.Blues)\n",
    "plt.show()"
   ]
  },
  {
   "cell_type": "code",
   "execution_count": 20,
   "id": "f71e6d7e",
   "metadata": {},
   "outputs": [
    {
     "data": {
      "text/plain": [
       "array([[186987,    201],\n",
       "       [   268,  62544]], dtype=int64)"
      ]
     },
     "execution_count": 20,
     "metadata": {},
     "output_type": "execute_result"
    }
   ],
   "source": [
    "confusion_matrix(y_test.to_list(), list(predict_classes))"
   ]
  },
  {
   "cell_type": "code",
   "execution_count": 21,
   "id": "b46c08ef",
   "metadata": {},
   "outputs": [
    {
     "name": "stdout",
     "output_type": "stream",
     "text": [
      "                   Poropressão  AlfaBiot   CoefEmp  AngAtrito    Coesao  \\\n",
      "Poropressão           1.000000  0.000522 -0.000604   0.001189 -0.001614   \n",
      "AlfaBiot              0.000522  1.000000  0.002060   0.000045 -0.000441   \n",
      "CoefEmp              -0.000604  0.002060  1.000000  -0.000341  0.000059   \n",
      "AngAtrito             0.001189  0.000045 -0.000341   1.000000 -0.001165   \n",
      "Coesao               -0.001614 -0.000441  0.000059  -0.001165  1.000000   \n",
      "Tensao               -0.001416 -0.001500  0.000279   0.001007 -0.000554   \n",
      "Reativa_binarized    -0.023454 -0.068290 -0.694032  -0.200498 -0.103458   \n",
      "\n",
      "                     Tensao  Reativa_binarized  \n",
      "Poropressão       -0.001416          -0.023454  \n",
      "AlfaBiot          -0.001500          -0.068290  \n",
      "CoefEmp            0.000279          -0.694032  \n",
      "AngAtrito          0.001007          -0.200498  \n",
      "Coesao            -0.000554          -0.103458  \n",
      "Tensao             1.000000           0.106836  \n",
      "Reativa_binarized  0.106836           1.000000  \n"
     ]
    },
    {
     "data": {
      "text/plain": [
       "<AxesSubplot:>"
      ]
     },
     "execution_count": 21,
     "metadata": {},
     "output_type": "execute_result"
    },
    {
     "data": {
      "image/png": "[encoded data removed]",
      "text/plain": [
       "<Figure size 432x288 with 2 Axes>"
      ]
     },
     "metadata": {
      "needs_background": "light"
     },
     "output_type": "display_data"
    }
   ],
   "source": [
    "corr=df.corr()\n",
    "print(corr)\n",
    "sns.heatmap(corr,\n",
    "           xticklabels=corr.columns,\n",
    "           yticklabels=corr.columns)"
   ]
  },
  {
   "cell_type": "code",
   "execution_count": 22,
   "id": "38bf6554",
   "metadata": {},
   "outputs": [
    {
     "name": "stdout",
     "output_type": "stream",
     "text": [
      "dict_keys(['loss', 'acc', 'val_loss', 'val_acc'])\n"
     ]
    },
    {
     "data": {
      "image/png": "[encoded data removed]",
      "text/plain": [
       "<Figure size 432x288 with 1 Axes>"
      ]
     },
     "metadata": {
      "needs_background": "light"
     },
     "output_type": "display_data"
    },
    {
     "data": {
      "image/png": "[encoded data removed]",
      "text/plain": [
       "<Figure size 432x288 with 1 Axes>"
      ]
     },
     "metadata": {
      "needs_background": "light"
     },
     "output_type": "display_data"
    }
   ],
   "source": [
    "# list all data in history\n",
    "print(history.history.keys())\n",
    "# summarize history for accuracy\n",
    "plt.plot(history.history['acc'])\n",
    "plt.plot(history.history['val_acc'])\n",
    "#plt.title('Modelo Acurácia')\n",
    "plt.ylabel('Acurácia')\n",
    "plt.xlabel('Épocas')\n",
    "#plt.ylim([0, 1])\n",
    "plt.legend(['treino', 'teste'], loc='upper left')\n",
    "plt.show()\n",
    "# summarize history for loss\n",
    "plt.plot(history.history['loss'])\n",
    "plt.plot(history.history['val_loss'])\n",
    "#plt.title('Modelo Perda')\n",
    "plt.ylabel('Perda')\n",
    "plt.xlabel('Épocas')\n",
    "#plt.ylim([0, 1])\n",
    "plt.legend(['treino', 'teste'], loc='upper left')\n",
    "plt.show()"
   ]
  },
  {
   "cell_type": "code",
   "execution_count": 23,
   "id": "052cb07c",
   "metadata": {},
   "outputs": [
    {
     "data": {
      "image/png": "[encoded data removed]",
      "text/plain": [
       "<Figure size 432x288 with 2 Axes>"
      ]
     },
     "metadata": {
      "needs_background": "light"
     },
     "output_type": "display_data"
    }
   ],
   "source": [
    "import seaborn as sns\n",
    "import matplotlib.pyplot as plt    \n",
    "\n",
    "ax= plt.subplot()\n",
    "\n",
    "cm = confusion_matrix(y_test.to_list(), list(predict_classes))\n",
    "sns.heatmap(cm, annot=True, fmt='g', ax=ax, cmap=\"Blues\");  #annot=True to annotate cells, ftm='g' to disable scientific notation\n",
    "\n",
    "# labels, title and ticks\n",
    "ax.set_xlabel('Classificação Prevista');ax.set_ylabel('Classificação Real');\n",
    "#ax.set_title('Matriz de Confusão');\n",
    "ax.xaxis.set_ticklabels(['Não Reativa', 'Reativa']); ax.yaxis.set_ticklabels([ 'Não Reativa','Reativa']);"
   ]
  },
  {
   "cell_type": "code",
   "execution_count": null,
   "id": "2193c449",
   "metadata": {},
   "outputs": [],
   "source": []
  }
 ],
 "metadata": {
  "kernelspec": {
   "display_name": "Python 3",
   "language": "python",
   "name": "python3"
  },
  "language_info": {
   "codemirror_mode": {
    "name": "ipython",
    "version": 3
   },
   "file_extension": ".py",
   "mimetype": "text/x-python",
   "name": "python",
   "nbconvert_exporter": "python",
   "pygments_lexer": "ipython3",
   "version": "3.8.8"
  }
 },
 "nbformat": 4,
 "nbformat_minor": 5
}
